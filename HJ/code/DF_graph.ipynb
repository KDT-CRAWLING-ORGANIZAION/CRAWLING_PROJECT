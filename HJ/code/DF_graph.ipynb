{
 "cells": [
  {
   "cell_type": "code",
   "execution_count": 5,
   "metadata": {
    "ExecuteTime": {
     "end_time": "2024-02-15T04:31:58.068131800Z",
     "start_time": "2024-02-15T04:31:58.048979300Z"
    }
   },
   "outputs": [],
   "source": [
    "import pandas as pd\n",
    "import csv\n",
    "import matplotlib.pyplot as plt\n",
    "import koreanize_matplotlib"
   ]
  },
  {
   "cell_type": "code",
   "execution_count": 18,
   "metadata": {
    "ExecuteTime": {
     "end_time": "2024-02-15T04:33:15.776880800Z",
     "start_time": "2024-02-15T04:33:15.738261300Z"
    }
   },
   "outputs": [
    {
     "data": {
      "text/plain": "         학교         학과    학점\n0      국숭세단      산업공학과  3.93\n1       안양대     정보통계학과  3.52\n2     지방사립대        통계학  4.21\n3      동덕여대  경영학/정보통계학   3.9\n4      국숭세단      산업공학과  3.93\n..      ...        ...   ...\n71    서울4년제       통계학과   4.0\n72       서울         통계   3.6\n73    한양대학교       경제금융  3.56\n74    지방국립대       경영학과   4.0\n75  서울시립대학교          -  4.13\n\n[76 rows x 3 columns]",
      "text/html": "<div>\n<style scoped>\n    .dataframe tbody tr th:only-of-type {\n        vertical-align: middle;\n    }\n\n    .dataframe tbody tr th {\n        vertical-align: top;\n    }\n\n    .dataframe thead th {\n        text-align: right;\n    }\n</style>\n<table border=\"1\" class=\"dataframe\">\n  <thead>\n    <tr style=\"text-align: right;\">\n      <th></th>\n      <th>학교</th>\n      <th>학과</th>\n      <th>학점</th>\n    </tr>\n  </thead>\n  <tbody>\n    <tr>\n      <th>0</th>\n      <td>국숭세단</td>\n      <td>산업공학과</td>\n      <td>3.93</td>\n    </tr>\n    <tr>\n      <th>1</th>\n      <td>안양대</td>\n      <td>정보통계학과</td>\n      <td>3.52</td>\n    </tr>\n    <tr>\n      <th>2</th>\n      <td>지방사립대</td>\n      <td>통계학</td>\n      <td>4.21</td>\n    </tr>\n    <tr>\n      <th>3</th>\n      <td>동덕여대</td>\n      <td>경영학/정보통계학</td>\n      <td>3.9</td>\n    </tr>\n    <tr>\n      <th>4</th>\n      <td>국숭세단</td>\n      <td>산업공학과</td>\n      <td>3.93</td>\n    </tr>\n    <tr>\n      <th>...</th>\n      <td>...</td>\n      <td>...</td>\n      <td>...</td>\n    </tr>\n    <tr>\n      <th>71</th>\n      <td>서울4년제</td>\n      <td>통계학과</td>\n      <td>4.0</td>\n    </tr>\n    <tr>\n      <th>72</th>\n      <td>서울</td>\n      <td>통계</td>\n      <td>3.6</td>\n    </tr>\n    <tr>\n      <th>73</th>\n      <td>한양대학교</td>\n      <td>경제금융</td>\n      <td>3.56</td>\n    </tr>\n    <tr>\n      <th>74</th>\n      <td>지방국립대</td>\n      <td>경영학과</td>\n      <td>4.0</td>\n    </tr>\n    <tr>\n      <th>75</th>\n      <td>서울시립대학교</td>\n      <td>-</td>\n      <td>4.13</td>\n    </tr>\n  </tbody>\n</table>\n<p>76 rows × 3 columns</p>\n</div>"
     },
     "execution_count": 18,
     "metadata": {},
     "output_type": "execute_result"
    }
   ],
   "source": [
    "speckdict = {\"학교\":[],\n",
    "             \"학과\":[],\n",
    "             \"학점\":[],\n",
    "             \"기타\":[]}\n",
    "speckdata = open('data_job.csv', mode='r', encoding='utf-8')\n",
    "reader = csv.reader(speckdata)\n",
    "for row in reader:\n",
    "    speckdict['학교'].append(row[0])\n",
    "    speckdict['학과'].append(row[1])\n",
    "    speckdict['학점'].append(row[3])\n",
    "    speckdict['기타'].append(row[4:])\n",
    "speckdata.close()\n",
    "speckDF = pd.DataFrame(speckdict)\n",
    "\n",
    "speckDF['기타'].to_csv('gitadata.csv', encoding='utf-8')\n",
    "speckdata.close()\n",
    "\n",
    "for row in speckDF.index:\n",
    "    if '/' in speckDF.loc[row,'학점']:\n",
    "        speckDF.loc[row,'학점'] = speckDF.loc[row,'학점'].split('/')[0]\n",
    "        \n",
    "speckDF.drop(labels='기타',axis=1, inplace=True)\n",
    "        \n",
    "speckDF"
   ]
  },
  {
   "cell_type": "code",
   "execution_count": 17,
   "metadata": {
    "ExecuteTime": {
     "end_time": "2024-02-15T04:32:27.986957800Z",
     "start_time": "2024-02-15T04:32:27.966269600Z"
    }
   },
   "outputs": [
    {
     "ename": "TypeError",
     "evalue": "argument of type 'numpy.float64' is not iterable",
     "output_type": "error",
     "traceback": [
      "\u001B[1;31m---------------------------------------------------------------------------\u001B[0m",
      "\u001B[1;31mTypeError\u001B[0m                                 Traceback (most recent call last)",
      "Cell \u001B[1;32mIn[17], line 2\u001B[0m\n\u001B[0;32m      1\u001B[0m \u001B[38;5;28;01mfor\u001B[39;00m row \u001B[38;5;129;01min\u001B[39;00m speckDF\u001B[38;5;241m.\u001B[39mindex:\n\u001B[1;32m----> 2\u001B[0m     \u001B[38;5;28;01mif\u001B[39;00m \u001B[38;5;124m'\u001B[39m\u001B[38;5;124m/\u001B[39m\u001B[38;5;124m'\u001B[39m \u001B[38;5;129;01min\u001B[39;00m speckDF\u001B[38;5;241m.\u001B[39mloc[row,\u001B[38;5;124m'\u001B[39m\u001B[38;5;124m학점\u001B[39m\u001B[38;5;124m'\u001B[39m]:\n\u001B[0;32m      3\u001B[0m         speckDF\u001B[38;5;241m.\u001B[39mloc[row,\u001B[38;5;124m'\u001B[39m\u001B[38;5;124m학점\u001B[39m\u001B[38;5;124m'\u001B[39m] \u001B[38;5;241m=\u001B[39m speckDF\u001B[38;5;241m.\u001B[39mloc[row,\u001B[38;5;124m'\u001B[39m\u001B[38;5;124m학점\u001B[39m\u001B[38;5;124m'\u001B[39m]\u001B[38;5;241m.\u001B[39msplit(\u001B[38;5;124m'\u001B[39m\u001B[38;5;124m/\u001B[39m\u001B[38;5;124m'\u001B[39m)[\u001B[38;5;241m0\u001B[39m]\n\u001B[0;32m      4\u001B[0m speckDF\n",
      "\u001B[1;31mTypeError\u001B[0m: argument of type 'numpy.float64' is not iterable"
     ]
    }
   ],
   "source": [
    "for row in speckDF.index:\n",
    "    if '/' in speckDF.loc[row,'학점']:\n",
    "        speckDF.loc[row,'학점'] = speckDF.loc[row,'학점'].split('/')[0]\n",
    "speckDF['학점'].unique()\n",
    "speckDF['학점'] = speckDF['학점'].astype('float64')"
   ]
  },
  {
   "cell_type": "code",
   "execution_count": 8,
   "metadata": {
    "ExecuteTime": {
     "end_time": "2024-02-15T04:31:58.157946200Z",
     "start_time": "2024-02-15T04:31:58.110936Z"
    }
   },
   "outputs": [
    {
     "name": "stdout",
     "output_type": "stream",
     "text": [
      "산업공학과\n",
      "정보통계학과\n",
      "통계학\n",
      "경영학/정보통계학\n",
      "산업공학과\n",
      "경영학과\n",
      "경영학/정보통계학\n",
      "철학과\n",
      "경제학부\n",
      "응용통계학과\n",
      "경영학/정보통계학\n",
      "컴퓨터정보공학\n",
      "산업공학과\n",
      "경영학/정보통계학\n",
      "응용통계학과\n",
      "경영학과\n",
      "경영학과\n",
      "컴퓨터공학과\n",
      "정보통신공학부\n",
      "안전공학전공\n",
      "기계\n",
      "경제학부\n",
      "아동가족\n",
      "경제학부\n",
      "행정학과\n",
      "산업공학과\n",
      "경영학과\n",
      "산업경영공학부\n",
      "경제학부\n",
      "아동복지학과\n",
      "응용통계학과\n",
      "정보통신학부\n",
      "디자인\n",
      "국사학과\n",
      "국사학과\n",
      "통계학과\n",
      "산업공학과\n",
      "경제학부\n",
      "경제학부\n",
      "소프트웨어공학\n",
      "산업공학\n",
      "경영학과\n",
      "수학\n",
      "전자공학\n",
      "기계공학과\n",
      "문과\n",
      "산업공학과\n",
      "이과\n",
      "항공우주/기계공학과\n",
      "전산통계\n",
      "정보통신공학과\n",
      "산업경영공학과\n",
      "경영학과\n",
      "임베디드 시스템 공학과\n",
      "경제학부\n",
      "경영\n",
      "-\n",
      "컴퓨터공학전공\n",
      "산업공학과\n",
      "산업공학과\n",
      "-\n",
      "전산통계\n",
      "경영학부\n",
      "정보통신공학과\n",
      "-\n",
      "경영/도시\n",
      "-\n",
      "산업공학과\n",
      "경영/통계\n",
      "통계학과\n",
      "통계학과\n",
      "통계학과\n",
      "통계\n",
      "경제금융\n",
      "경영학과\n",
      "-\n"
     ]
    }
   ],
   "source": [
    "for row in speckDF.index:\n",
    "    print(speckDF.loc[row,'학과'])\n"
   ]
  },
  {
   "cell_type": "code",
   "execution_count": 9,
   "metadata": {
    "ExecuteTime": {
     "end_time": "2024-02-15T04:31:58.295778300Z",
     "start_time": "2024-02-15T04:31:58.120971700Z"
    }
   },
   "outputs": [
    {
     "data": {
      "text/plain": "     count\n학과        \n비전공     52\n전공      24",
      "text/html": "<div>\n<style scoped>\n    .dataframe tbody tr th:only-of-type {\n        vertical-align: middle;\n    }\n\n    .dataframe tbody tr th {\n        vertical-align: top;\n    }\n\n    .dataframe thead th {\n        text-align: right;\n    }\n</style>\n<table border=\"1\" class=\"dataframe\">\n  <thead>\n    <tr style=\"text-align: right;\">\n      <th></th>\n      <th>count</th>\n    </tr>\n    <tr>\n      <th>학과</th>\n      <th></th>\n    </tr>\n  </thead>\n  <tbody>\n    <tr>\n      <th>비전공</th>\n      <td>52</td>\n    </tr>\n    <tr>\n      <th>전공</th>\n      <td>24</td>\n    </tr>\n  </tbody>\n</table>\n</div>"
     },
     "execution_count": 9,
     "metadata": {},
     "output_type": "execute_result"
    }
   ],
   "source": [
    "words = ['통계', '컴퓨터', '데이터', '통신','정보','소프트웨어']\n",
    "for row in speckDF.index:\n",
    "    for word in words:\n",
    "        speckDF.loc[speckDF['학과'].str.contains(word), '학과'] = '전공'\n",
    "\n",
    "    speckDF.loc[speckDF['학과'] != '전공', '학과'] = '비전공'\n",
    "\n",
    "majorDF = pd.DataFrame(speckDF['학과'].value_counts())\n",
    "majorDF = majorDF.astype('int64')\n",
    "majorDF"
   ]
  },
  {
   "cell_type": "code",
   "execution_count": 10,
   "metadata": {
    "ExecuteTime": {
     "end_time": "2024-02-15T04:31:58.452605800Z",
     "start_time": "2024-02-15T04:31:58.276928700Z"
    }
   },
   "outputs": [
    {
     "name": "stdout",
     "output_type": "stream",
     "text": [
      "[52, 24]\n"
     ]
    },
    {
     "data": {
      "text/plain": "Text(0.5, 1.0, '[합격자 비전공/전공 비율]')"
     },
     "execution_count": 10,
     "metadata": {},
     "output_type": "execute_result"
    },
    {
     "data": {
      "text/plain": "<Figure size 640x480 with 1 Axes>",
      "image/png": "[encoded data removed]"
     },
     "metadata": {},
     "output_type": "display_data"
    }
   ],
   "source": [
    "xlist = majorDF.index\n",
    "ylist = []\n",
    "for i in range(majorDF.shape[0]):\n",
    "    ylist.append(majorDF.iloc[i][0])\n",
    "\n",
    "print(ylist)\n",
    "\n",
    "plt.pie(ylist, labels=xlist, colors = ['grey','pink'], explode=[0.1,0], autopct='%.1f%%')\n",
    "plt.title('[합격자 비전공/전공 비율]')\n"
   ]
  },
  {
   "cell_type": "code",
   "execution_count": 11,
   "metadata": {
    "ExecuteTime": {
     "end_time": "2024-02-15T04:31:58.453656300Z",
     "start_time": "2024-02-15T04:31:58.421852800Z"
    }
   },
   "outputs": [],
   "source": [
    "scoreDF = speckDF[speckDF['학점'] != 0]['학점']\n"
   ]
  },
  {
   "cell_type": "code",
   "execution_count": 12,
   "metadata": {
    "ExecuteTime": {
     "end_time": "2024-02-15T04:31:58.454730200Z",
     "start_time": "2024-02-15T04:31:58.429176100Z"
    }
   },
   "outputs": [
    {
     "data": {
      "text/plain": "2.8"
     },
     "execution_count": 12,
     "metadata": {},
     "output_type": "execute_result"
    }
   ],
   "source": [
    "scoreDF.min()"
   ]
  },
  {
   "cell_type": "code",
   "execution_count": 13,
   "metadata": {
    "ExecuteTime": {
     "end_time": "2024-02-15T04:31:58.638250900Z",
     "start_time": "2024-02-15T04:31:58.437552200Z"
    }
   },
   "outputs": [
    {
     "data": {
      "text/plain": "(2.5, 4.5)"
     },
     "execution_count": 13,
     "metadata": {},
     "output_type": "execute_result"
    },
    {
     "data": {
      "text/plain": "<Figure size 640x480 with 1 Axes>",
      "image/png": "[encoded data removed]"
     },
     "metadata": {},
     "output_type": "display_data"
    }
   ],
   "source": [
    "\n",
    "plt.boxplot(scoreDF)\n",
    "plt.title('[합격자 학점]')\n",
    "plt.text(1.1,3.55,f'평균 : {scoreDF.mean():.2f}점',size = 13)\n",
    "plt.text(1.1,4.2,f'최대값 : {scoreDF.max():.2f}점',size = 13)\n",
    "plt.text(1.1,2.8,f'최소값 : {scoreDF.min():.2f}점',size = 13)\n",
    "plt.ylim(2.5,4.5)"
   ]
  },
  {
   "cell_type": "code",
   "execution_count": 14,
   "metadata": {
    "ExecuteTime": {
     "end_time": "2024-02-15T04:31:58.947183900Z",
     "start_time": "2024-02-15T04:31:58.633891700Z"
    }
   },
   "outputs": [
    {
     "data": {
      "text/plain": "Text(0.5, 1.0, '[합격자 학점]')"
     },
     "execution_count": 14,
     "metadata": {},
     "output_type": "execute_result"
    },
    {
     "data": {
      "text/plain": "<Figure size 640x480 with 1 Axes>",
      "image/png": "[encoded data removed]"
     },
     "metadata": {},
     "output_type": "display_data"
    }
   ],
   "source": [
    "plt.scatter(scoreDF.index, scoreDF,color = 'red')\n",
    "plt.ylim(2.5, None)\n",
    "plt.title('[합격자 학점]')"
   ]
  },
  {
   "cell_type": "code",
   "execution_count": 14,
   "metadata": {
    "ExecuteTime": {
     "end_time": "2024-02-15T04:31:58.948219700Z",
     "start_time": "2024-02-15T04:31:58.945633400Z"
    }
   },
   "outputs": [],
   "source": []
  }
 ],
 "metadata": {
  "kernelspec": {
   "display_name": "start",
   "language": "python",
   "name": "python3"
  },
  "language_info": {
   "codemirror_mode": {
    "name": "ipython",
    "version": 3
   },
   "file_extension": ".py",
   "mimetype": "text/x-python",
   "name": "python",
   "nbconvert_exporter": "python",
   "pygments_lexer": "ipython3",
   "version": "3.11.5"
  }
 },
 "nbformat": 4,
 "nbformat_minor": 2
}
